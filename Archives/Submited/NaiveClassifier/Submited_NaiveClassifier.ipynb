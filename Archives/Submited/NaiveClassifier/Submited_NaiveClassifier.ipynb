{
 "cells": [
  {
   "cell_type": "code",
   "execution_count": 33,
   "metadata": {},
   "outputs": [],
   "source": [
    "import re"
   ]
  },
  {
   "cell_type": "code",
   "execution_count": 34,
   "metadata": {},
   "outputs": [],
   "source": [
    "PATH_TO_POS = \"../text/twitter-datasets/train_pos_full.txt\"\n",
    "PATH_TO_NEG = \"../text/twitter-datasets/train_neg_full.txt\"\n",
    "PATH_TO_TEST = \"../text/twitter-datasets/test_data.txt\"\n",
    "PATH_TO_SUB = \"./submission.csv\""
   ]
  },
  {
   "cell_type": "markdown",
   "metadata": {},
   "source": [
    "# Obtaining the data from the files\n",
    "## 1. For training"
   ]
  },
  {
   "cell_type": "code",
   "execution_count": 35,
   "metadata": {},
   "outputs": [],
   "source": [
    "train_x = []\n",
    "train_y = []\n",
    "\n",
    "with open(PATH_TO_POS, \"r\") as file:\n",
    "    content = file.read()\n",
    "    content_lines = content.split(\"\\n\")\n",
    "    train_x += content_lines[:]\n",
    "    train_y += [1] * len(content_lines)\n",
    "\n",
    "with open(PATH_TO_NEG, \"r\") as file:\n",
    "    content = file.read()\n",
    "    content_lines = content.split(\"\\n\")\n",
    "    train_x += content_lines[:]\n",
    "    train_y += [-1] * len(content_lines) "
   ]
  },
  {
   "cell_type": "markdown",
   "metadata": {},
   "source": [
    "## 2. For generating the predictions"
   ]
  },
  {
   "cell_type": "code",
   "execution_count": 48,
   "metadata": {},
   "outputs": [],
   "source": [
    "test_data = []\n",
    "test_ids = []\n",
    "test_preds = []\n",
    "\n",
    "with open(PATH_TO_TEST) as file:\n",
    "    content = file.read()\n",
    "    content_lines = content.split(\"\\n\")\n",
    "# Read, store in test_ids and remove id from test_data\n",
    "for i in range(len(content_lines)):\n",
    "    if \",\" in content_lines[i]:\n",
    "        entrySplitted = re.split(\",\", content_lines[i], 1)\n",
    "        test_ids.append(entrySplitted[0])\n",
    "        test_data.append(entrySplitted[1])"
   ]
  },
  {
   "cell_type": "markdown",
   "metadata": {},
   "source": [
    "# Constructing the table with likelihood for each word to be positive or negative"
   ]
  },
  {
   "cell_type": "code",
   "execution_count": 37,
   "metadata": {},
   "outputs": [],
   "source": [
    "words = {}\n",
    "for x,y in zip(train_x, train_y):\n",
    "    list_words = x.split(\" \")\n",
    "    for w in list_words:\n",
    "        if w not in words:\n",
    "            words[w] = [3, 1, 1]\n",
    "            if y == 1:\n",
    "                words[w][1] = 1\n",
    "            else:\n",
    "                words[w][2] = 1\n",
    "        else:\n",
    "            words[w][0] += 1\n",
    "            if y == 1:\n",
    "                words[w][1] += 1\n",
    "            else:\n",
    "                words[w][2] += 1"
   ]
  },
  {
   "cell_type": "markdown",
   "metadata": {},
   "source": [
    "# Basic classifier for a sentence"
   ]
  },
  {
   "cell_type": "code",
   "execution_count": 45,
   "metadata": {},
   "outputs": [],
   "source": [
    "def classifier(sentence):\n",
    "    probaPos = 1\n",
    "    probaNeg = 1\n",
    "    sentenceSplitted = sentence.split(\" \")\n",
    "    for word in sentenceSplitted:\n",
    "        if word in words:\n",
    "            probaPos *= words[word][1]/words[word][0]\n",
    "            probaNeg *= words[word][2]/words[word][0]\n",
    "        else:\n",
    "            probaPos *= 0.5\n",
    "            probaNeg *= 0.5\n",
    "    if probaPos / probaNeg >= 1:\n",
    "        return 1\n",
    "    return -1"
   ]
  },
  {
   "cell_type": "markdown",
   "metadata": {},
   "source": [
    "# Do the predictions for the test data\n",
    "And write them in the submission file"
   ]
  },
  {
   "cell_type": "code",
   "execution_count": 49,
   "metadata": {},
   "outputs": [],
   "source": [
    "# Predictions\n",
    "for x in test_data:\n",
    "    test_preds.append(classifier(x))\n",
    "\n",
    "# Writing\n",
    "with open(PATH_TO_SUB, \"w\") as file:\n",
    "    file.write(\"Id,Prediction\\n\")\n",
    "    for id,pred in zip(test_ids, test_preds):\n",
    "        file.write(\"{},{}\\n\".format(id, pred))"
   ]
  },
  {
   "cell_type": "code",
   "execution_count": null,
   "metadata": {},
   "outputs": [],
   "source": []
  }
 ],
 "metadata": {
  "interpreter": {
   "hash": "916dbcbb3f70747c44a77c7bcd40155683ae19c65e1c03b4aa3499c5328201f1"
  },
  "kernelspec": {
   "display_name": "Python 3.8.10 64-bit",
   "language": "python",
   "name": "python3"
  },
  "language_info": {
   "codemirror_mode": {
    "name": "ipython",
    "version": 3
   },
   "file_extension": ".py",
   "mimetype": "text/x-python",
   "name": "python",
   "nbconvert_exporter": "python",
   "pygments_lexer": "ipython3",
   "version": "3.8.10"
  },
  "orig_nbformat": 4
 },
 "nbformat": 4,
 "nbformat_minor": 2
}
